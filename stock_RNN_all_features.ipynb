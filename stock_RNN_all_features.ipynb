{
 "cells": [
  {
   "cell_type": "code",
   "execution_count": 2,
   "source": [
    "import pandas as pd\r\n",
    "import numpy as np\r\n",
    "import matplotlib.pyplot as plt\r\n",
    "%matplotlib inline"
   ],
   "outputs": [],
   "metadata": {
    "ExecuteTime": {
     "end_time": "2020-12-04T14:57:15.221917Z",
     "start_time": "2020-12-04T14:57:15.209490Z"
    }
   }
  },
  {
   "cell_type": "code",
   "execution_count": null,
   "source": [
    "from FinMind.Data import Load\r\n",
    "TaiwanStockInfo = Load.FinData(dataset = 'TaiwanStockInfo')\r\n",
    "data = Load.FinData(dataset = 'TaiwanStockPrice',select = '2330',date = '2018-01-01')\r\n",
    "\r\n",
    "fig=plt.figure(figsize=(20,8))\r\n",
    "plt.xticks(rotation = 90)  \r\n",
    "ax1 = plt.subplot(111)\r\n",
    "ax1.plot(data.close,color='red',label='close')\r\n",
    "ax1.plot(data.open,color='green',label='open')\r\n",
    "plt.legend()\r\n",
    "# twin 為共享x軸\r\n",
    "ax2= ax1.twinx()\r\n",
    "plt.bar(data.date,data.Trading_Volume.astype('int')//1000)\r\n",
    "ax3 = ax1.twinx()\r\n",
    "\r\n",
    "data.head()"
   ],
   "outputs": [],
   "metadata": {
    "ExecuteTime": {
     "end_time": "2020-12-04T14:57:28.213701Z",
     "start_time": "2020-12-04T14:57:15.448458Z"
    }
   }
  },
  {
   "cell_type": "code",
   "execution_count": null,
   "source": [
    "# convert series to supervised learning\r\n",
    "def series_to_supervised(data, n_in, n_out, dropnan=True):\r\n",
    "    n_vars = 1 if type(data) is list else data.shape[1]\r\n",
    "    df = pd.DataFrame(data)\r\n",
    "    cols, names = list(), list()\r\n",
    "    # input sequence (t-n, ... t-1)\r\n",
    "    for i in range(n_in, 0, -1):\r\n",
    "        cols.append(df.shift(i))\r\n",
    "        names += [('var%d(t-%d)' % (j+1, i)) for j in range(n_vars)]\r\n",
    "    # forecast sequence (t, t+1, ... t+n)\r\n",
    "    for i in range(0, n_out):\r\n",
    "        cols.append(df.shift(-i))\r\n",
    "        if i == 0:\r\n",
    "            names += [('var%d(t)' % (j+1)) for j in range(n_vars)]\r\n",
    "        else:\r\n",
    "            names += [('var%d(t+%d)' % (j+1, i)) for j in range(n_vars)]\r\n",
    "    # put it all together\r\n",
    "    agg = pd.concat(cols, axis=1)\r\n",
    "    agg.columns = names\r\n",
    "    # drop rows with NaN values\r\n",
    "    if dropnan:\r\n",
    "        agg.dropna(inplace=True)\r\n",
    "    return agg\r\n",
    "\r\n",
    "# 取Volume, open, close, max, min\r\n",
    "data = data[['Trading_Volume','open','close','max','min']]\r\n",
    "\r\n",
    "# MinMaxScale\r\n",
    "from sklearn.preprocessing import MinMaxScaler \r\n",
    "sc = MinMaxScaler(feature_range = (0, 1))\r\n",
    "dataset_scaled = sc.fit_transform(data)\r\n",
    "\r\n",
    "# series to supervised\r\n",
    "dataset_scaled_reframed = series_to_supervised(dataset_scaled, 1, 1)\r\n",
    "dataset_scaled_reframed.drop(dataset_scaled_reframed.columns[[6,7,8,9]], axis=1, inplace=True)\r\n",
    "print(dataset_scaled_reframed)"
   ],
   "outputs": [
    {
     "output_type": "stream",
     "name": "stdout",
     "text": [
      "     var1(t-1)  var2(t-1)  var3(t-1)  var4(t-1)  var5(t-1)   var1(t)\n",
      "1     0.085737   0.070447   0.083051   0.071307   0.084192  0.166725\n",
      "2     0.166725   0.085911   0.098305   0.089983   0.099656  0.151736\n",
      "3     0.151736   0.099656   0.106780   0.096774   0.103093  0.119353\n",
      "4     0.119353   0.099656   0.108475   0.096774   0.108247  0.108231\n",
      "5     0.108231   0.106529   0.115254   0.105263   0.116838  0.091598\n",
      "..         ...        ...        ...        ...        ...       ...\n",
      "710   0.187435   0.950172   0.952542   0.952462   0.962199  0.864459\n",
      "711   0.864459   0.969072   0.923729   0.957555   0.941581  0.206091\n",
      "712   0.206091   0.957045   0.955932   0.945671   0.951890  0.335822\n",
      "713   0.335822   0.991409   0.986441   0.979626   0.986254  0.197656\n",
      "714   0.197656   0.991409   0.979661   0.977929   0.991409  0.284949\n",
      "\n",
      "[714 rows x 6 columns]\n"
     ]
    }
   ],
   "metadata": {
    "ExecuteTime": {
     "end_time": "2020-12-04T14:57:28.367278Z",
     "start_time": "2020-12-04T14:57:28.338510Z"
    },
    "scrolled": true
   }
  },
  {
   "cell_type": "code",
   "execution_count": null,
   "source": [
    "dataset_scaled_reframed = dataset_scaled_reframed.values\r\n",
    "# train, test split\r\n",
    "train_size = int(len(dataset_scaled_reframed) * 0.7)\r\n",
    "test_size = len(dataset_scaled_reframed) - train_size\r\n",
    "train, test = dataset_scaled_reframed[0:train_size, :], dataset_scaled_reframed[train_size:len(dataset_scaled_reframed), :]\r\n",
    "\r\n",
    "print('Training size: ', train_size)\r\n",
    "print('Test size: ', test_size)\r\n",
    "\r\n",
    "# split into input and outputs\r\n",
    "X_train, y_train = train[:, :-1], train[:, -1]\r\n",
    "X_test, y_test = test[:, :-1], test[:, -1]\r\n",
    "\r\n",
    "# reshape into [samples, timesteps, features]\r\n",
    "X_train = X_train.reshape((X_train.shape[0], 1, X_train.shape[1]))\r\n",
    "X_test = X_test.reshape((X_test.shape[0], 1, X_test.shape[1]))\r\n",
    "\r\n",
    "print('training_shape: ',X_train.shape, y_train.shape)\r\n",
    "print('testing_shape: ',X_test.shape, y_test.shape)"
   ],
   "outputs": [
    {
     "output_type": "stream",
     "name": "stdout",
     "text": [
      "Training size:  499\n",
      "Test size:  215\n",
      "training_shape:  (499, 1, 5) (499,)\n",
      "testing_shape:  (215, 1, 5) (215,)\n"
     ]
    }
   ],
   "metadata": {
    "ExecuteTime": {
     "end_time": "2020-12-04T14:57:28.505661Z",
     "start_time": "2020-12-04T14:57:28.491773Z"
    }
   }
  },
  {
   "cell_type": "code",
   "execution_count": null,
   "source": [
    "from tensorflow.keras import layers\r\n",
    "from tensorflow.keras.models import Sequential\r\n",
    "from tensorflow.keras.layers import Dense, SimpleRNN\r\n",
    "\r\n",
    "model = Sequential()\r\n",
    "model.add(SimpleRNN(units = 100, input_shape = (X_train.shape[1],X_train.shape[2])))\r\n",
    "model.add(Dense(units = 1))\r\n",
    "model.compile(optimizer = 'adam', loss = 'mean_squared_error')\r\n",
    "history = model.fit(X_train, y_train, epochs = 100, batch_size = 10)\r\n",
    "plt.title('train_loss')\r\n",
    "plt.ylabel('loss')\r\n",
    "plt.xlabel('Epoch')\r\n",
    "plt.plot(history.history[\"loss\"])"
   ],
   "outputs": [],
   "metadata": {
    "ExecuteTime": {
     "end_time": "2020-12-04T14:57:36.009462Z",
     "start_time": "2020-12-04T14:57:28.630156Z"
    },
    "scrolled": true
   }
  },
  {
   "cell_type": "code",
   "execution_count": null,
   "source": [
    "predicted_stock_price = model.predict(X_test)\r\n",
    "X_test = X_test.reshape((X_test.shape[0], X_test.shape[2]))\r\n",
    "\r\n",
    "# invert scaling for forecast\r\n",
    "inv_yhat = np.concatenate((predicted_stock_price, X_test[:, 1:]), axis=1)\r\n",
    "inv_yhat = sc.inverse_transform(inv_yhat)\r\n",
    "inv_yhat = inv_yhat[:,0]\r\n",
    "\r\n",
    "# invert scaling for actual\r\n",
    "y_test = y_test.reshape((len(y_test), 1))\r\n",
    "inv_y = np.concatenate((y_test, X_test[:, 1:]), axis=1)\r\n",
    "inv_y = sc.inverse_transform(inv_y)\r\n",
    "inv_y = inv_y[:,0]"
   ],
   "outputs": [],
   "metadata": {
    "ExecuteTime": {
     "end_time": "2020-12-04T14:57:36.578602Z",
     "start_time": "2020-12-04T14:57:36.334343Z"
    }
   }
  },
  {
   "cell_type": "code",
   "execution_count": null,
   "source": [
    "# Plot prediction vs Real\r\n",
    "plt.plot(inv_y, color = 'black', label = 'Real TSMC Stock Price')\r\n",
    "plt.plot(inv_yhat, color = 'green', label = 'Predicted TSMC Stock Price')\r\n",
    "plt.title('TSMC Stock Price Prediction')\r\n",
    "plt.xlabel('Time',size=14)\r\n",
    "plt.ylabel('Stock Price',size=14)\r\n",
    "plt.legend(fontsize=14)\r\n",
    "plt.show()"
   ],
   "outputs": [
    {
     "output_type": "display_data",
     "data": {
      "text/plain": [
       "<Figure size 432x288 with 1 Axes>"
      ],
      "image/png": "[encoded data removed]"
     },
     "metadata": {
      "needs_background": "light"
     }
    }
   ],
   "metadata": {
    "ExecuteTime": {
     "end_time": "2020-12-04T14:58:27.864629Z",
     "start_time": "2020-12-04T14:58:27.727215Z"
    }
   }
  }
 ],
 "metadata": {
  "hide_input": false,
  "kernelspec": {
   "name": "python3",
   "display_name": "Python 3.8.9 64-bit"
  },
  "language_info": {
   "codemirror_mode": {
    "name": "ipython",
    "version": 3
   },
   "file_extension": ".py",
   "mimetype": "text/x-python",
   "name": "python",
   "nbconvert_exporter": "python",
   "pygments_lexer": "ipython3",
   "version": "3.8.9"
  },
  "toc": {
   "base_numbering": 1,
   "nav_menu": {},
   "number_sections": true,
   "sideBar": true,
   "skip_h1_title": false,
   "title_cell": "Table of Contents",
   "title_sidebar": "Contents",
   "toc_cell": false,
   "toc_position": {},
   "toc_section_display": true,
   "toc_window_display": false
  },
  "varInspector": {
   "cols": {
    "lenName": 16,
    "lenType": 16,
    "lenVar": 40
   },
   "kernels_config": {
    "python": {
     "delete_cmd_postfix": "",
     "delete_cmd_prefix": "del ",
     "library": "var_list.py",
     "varRefreshCmd": "print(var_dic_list())"
    },
    "r": {
     "delete_cmd_postfix": ") ",
     "delete_cmd_prefix": "rm(",
     "library": "var_list.r",
     "varRefreshCmd": "cat(var_dic_list()) "
    }
   },
   "types_to_exclude": [
    "module",
    "function",
    "builtin_function_or_method",
    "instance",
    "_Feature"
   ],
   "window_display": false
  },
  "interpreter": {
   "hash": "f75653de29ae630688417bca54edc051a45632fbc3c7df1a722ac4e453b697a4"
  }
 },
 "nbformat": 4,
 "nbformat_minor": 2
}